{
 "cells": [
  {
   "cell_type": "markdown",
   "metadata": {},
   "source": [
    "# 🎮 DOOM RPN: Where Mathematics Meets Mayhem!\n",
    "\n",
    "Welcome to the most **EPIC** crossover in computing history! This notebook demonstrates how **Reverse Polish Notation** can handle everything from demon slaying calculations to speedrun mathematics.\n",
    "\n",
    "```\n",
    "██████╗  ██████╗  ██████╗ ███╗   ███╗    ██████╗ ██████╗ ███╗   ██╗\n",
    "██╔══██╗██╔═══██╗██╔═══██╗████╗ ████║    ██╔══██╗██╔══██╗████╗  ██║\n",
    "██║  ██║██║   ██║██║   ██║██╔████╔██║    ██████╔╝██████╔╝██╔██╗ ██║\n",
    "██║  ██║██║   ██║██║   ██║██║╚██╔╝██║    ██╔══██╗██╔═══╝ ██║╚██╗██║\n",
    "██████╔╝╚██████╔╝╚██████╔╝██║ ╚═╝ ██║    ██║  ██║██║     ██║ ╚████║\n",
    "╚═════╝  ╚═════╝  ╚═════╝ ╚═╝     ╚═╝    ╚═╝  ╚═╝╚═╝     ╚═╝  ╚═══╝\n",
    "```\n",
    "\n",
    "🔥 **REVERSE POLISH NOTATION MEETS CLASSIC GAMING** 🔥"
   ]
  },
  {
   "cell_type": "code",
   "execution_count": null,
   "metadata": {},
   "outputs": [],
   "source": [
    "# Install pydantic-rpn if not already installed\n",
    "# !pip install pydantic-rpn\n",
    "\n",
    "from pydantic_rpn import RPN, RPNBuilder\n",
    "import math\n",
    "print(\"🎮 DOOM RPN loaded and ready for mathematical mayhem!\")"
   ]
  },
  {
   "cell_type": "markdown",
   "metadata": {},
   "source": [
    "## 💀 DOOM Health & Armor System\n",
    "\n",
    "Let's calculate damage with armor absorption - the foundation of DOOM's combat system!"
   ]
  },
  {
   "cell_type": "code",
   "execution_count": null,
   "metadata": {},
   "outputs": [],
   "source": [
    "print(\"💀 DOOM Health & Armor System:\")\n",
    "\n",
    "# Health calculation: damage reduction with armor\n",
    "# effective_damage = damage × (1 - armor_absorption)\n",
    "damage_calc = RPN(\"base_damage 1 armor_percent - *\")\n",
    "\n",
    "# Shotgun blast (64 damage) vs 50% armor\n",
    "effective_damage = damage_calc.eval(base_damage=64, armor_percent=0.5)\n",
    "print(f\"🔫 Shotgun blast (64 dmg) vs 50% armor: {effective_damage} effective damage\")\n",
    "\n",
    "# Plasma rifle damage over time: 40 dmg × 10 shots per second × 3 seconds\n",
    "plasma_dps = RPN(\"damage_per_shot shots_per_second * duration *\")\n",
    "total_damage = plasma_dps.eval(damage_per_shot=40, shots_per_second=10, duration=3)\n",
    "print(f\"⚡ Plasma rifle (3 sec burst): {total_damage} total damage\")\n",
    "\n",
    "# Health pack efficiency: health_gained / health_missing\n",
    "health_efficiency = RPN(\"health_gained max_health current_health - /\")\n",
    "efficiency = health_efficiency.eval(health_gained=25, max_health=100, current_health=30)\n",
    "print(f\"🏥 Medkit efficiency (30→55 health): {efficiency:.2f} (1.0 = perfect)\")"
   ]
  },
  {
   "cell_type": "markdown",
   "metadata": {},
   "source": [
    "## 🚀 DOOM Ballistics & Physics\n",
    "\n",
    "Calculate rocket splash damage and projectile trajectories!"
   ]
  },
  {
   "cell_type": "code",
   "execution_count": null,
   "metadata": {},
   "outputs": [],
   "source": [
    "print(\"🚀 DOOM Ballistics & Physics:\")\n",
    "\n",
    "# Rocket launcher splash damage: damage × (1 - distance/radius)²\n",
    "splash_damage = RPN(\"max_damage 1 distance splash_radius / - 2 ** *\")\n",
    "\n",
    "# Direct hit (distance=0) vs edge hit (distance=120, radius=128) \n",
    "direct_hit = splash_damage.eval(max_damage=200, distance=0, splash_radius=128)\n",
    "edge_hit = splash_damage.eval(max_damage=200, distance=120, splash_radius=128)\n",
    "print(f\"💥 Rocket direct hit: {direct_hit} damage\")\n",
    "print(f\"💨 Rocket edge damage: {edge_hit:.1f} damage\")\n",
    "\n",
    "# BFG shot trajectory (simplified - DOOM doesn't actually have gravity!)\n",
    "trajectory_y = RPN(\"x angle_rad tan * g x 2 ** * 2 velocity 2 ** * angle_rad cos 2 ** * / -\")\n",
    "y_pos = trajectory_y.eval(x=500, angle_rad=0.1, g=9.8, velocity=1000)\n",
    "print(f\"🟢 BFG trajectory at 500 units: {y_pos:.1f} units high\")"
   ]
  },
  {
   "cell_type": "markdown",
   "metadata": {},
   "source": [
    "## 👹 Monster Stats & AI\n",
    "\n",
    "Calculate demon spawn rates and AI behavior!"
   ]
  },
  {
   "cell_type": "code",
   "execution_count": null,
   "metadata": {},
   "outputs": [],
   "source": [
    "print(\"👹 Monster Stats & AI:\")\n",
    "\n",
    "# Demon spawn rate: base_rate × difficulty_multiplier × player_progress\n",
    "spawn_rate = RPN(\"base_rate difficulty_mult * progress_mult *\")\n",
    "\n",
    "# Hell on Earth difficulty\n",
    "demons_per_minute = spawn_rate.eval(base_rate=2.0, difficulty_mult=1.5, progress_mult=2.0)\n",
    "print(f\"😈 Demon spawn rate (Hell on Earth): {demons_per_minute} demons/minute\")\n",
    "\n",
    "# Cyberdemon health scaling: base_health × (1 + 0.1×level)\n",
    "cyberdemon_health = RPN(\"base_health 1 0.1 level * + *\")\n",
    "scaled_health = cyberdemon_health.eval(base_health=4000, level=5)\n",
    "print(f\"🤖 Cyberdemon health (level 5): {scaled_health} HP\")\n",
    "\n",
    "# Accuracy calculation: base_accuracy × (1 - distance_penalty) × skill_modifier  \n",
    "demon_accuracy = RPN(\"base_acc 1 distance 100 / - * skill_mod *\")\n",
    "hit_chance = demon_accuracy.eval(base_acc=0.8, distance=200, skill_mod=1.2)\n",
    "print(f\"🎯 Demon accuracy at 200 units: {hit_chance:.1%} hit chance\")"
   ]
  },
  {
   "cell_type": "markdown",
   "metadata": {},
   "source": [
    "## ⚡ Speedrun Mathematics\n",
    "\n",
    "The legendary calculations that power DOOM speedrunning!"
   ]
  },
  {
   "cell_type": "code",
   "execution_count": null,
   "metadata": {},
   "outputs": [],
   "source": [
    "print(\"⚡ Speedrun Mathematics:\")\n",
    "\n",
    "# Straferunning speed: √(forward² + strafe²) = √(50² + 50²) ≈ 70.7 units/sec\n",
    "strafe_speed = RPN(\"forward_speed 2 ** strafe_speed 2 ** + sqrt\")\n",
    "max_speed = strafe_speed.eval(forward_speed=50, strafe_speed=50)\n",
    "print(f\"🏃 Straferunning speed: {max_speed:.1f} units/sec (vs 50 normal)\")\n",
    "\n",
    "# SR-50 glitch speed calculation (legendary DOOM speedrun trick)\n",
    "sr50_speed = RPN(\"base_speed 50 40 + * 50 /\")\n",
    "glitch_speed = sr50_speed.eval(base_speed=50)\n",
    "print(f\"🚀 SR-50 glitch speed: {glitch_speed} units/sec (INSANE!)\")\n",
    "\n",
    "# Level completion time: (distance / average_speed) + combat_time + secret_time\n",
    "completion_time = RPN(\"total_distance avg_speed / combat_time + secret_time +\")\n",
    "level_time = completion_time.eval(total_distance=5000, avg_speed=60, combat_time=45, secret_time=15)\n",
    "print(f\"🏁 E1M1 speedrun time: {level_time:.1f} seconds\")"
   ]
  },
  {
   "cell_type": "markdown",
   "metadata": {},
   "source": [
    "## 📦 Resource Management\n",
    "\n",
    "Optimize your ammo, health, and armor like a pro!"
   ]
  },
  {
   "cell_type": "code",
   "execution_count": null,
   "metadata": {},
   "outputs": [],
   "source": [
    "print(\"📦 Resource Management:\")\n",
    "\n",
    "# Ammo efficiency: damage_per_ammo = total_damage / ammo_consumed\n",
    "ammo_efficiency = RPN(\"total_damage ammo_used /\")\n",
    "\n",
    "# Shotgun vs Chaingun efficiency\n",
    "shotgun_eff = ammo_efficiency.eval(total_damage=64, ammo_used=1)  # 1 shell\n",
    "chaingun_eff = ammo_efficiency.eval(total_damage=10, ammo_used=1)  # 1 bullet\n",
    "print(f\"🔫 Shotgun efficiency: {shotgun_eff} damage/ammo\")\n",
    "print(f\"🔫 Chaingun efficiency: {chaingun_eff} damage/ammo\")\n",
    "\n",
    "# Inventory optimization: value = (utility × quantity) / weight\n",
    "item_value = RPN(\"utility quantity * weight /\")\n",
    "\n",
    "# Health potion vs Stimpack\n",
    "potion_value = item_value.eval(utility=10, quantity=1, weight=1)    # +10 health\n",
    "stimpack_value = item_value.eval(utility=10, quantity=1, weight=0.5) # +10 health, lighter\n",
    "print(f\"🏥 Health potion value: {potion_value}\")\n",
    "print(f\"💉 Stimpack value: {stimpack_value} (better!)\")"
   ]
  },
  {
   "cell_type": "markdown",
   "metadata": {},
   "source": [
    "## 😈 NIGHTMARE Mode\n",
    "\n",
    "The calculations that make angels fear to tread!"
   ]
  },
  {
   "cell_type": "code",
   "execution_count": null,
   "metadata": {},
   "outputs": [],
   "source": [
    "print(\"😈 NIGHTMARE Mode:\")\n",
    "\n",
    "# Nightmare difficulty multipliers: damage × 2, speed × 1.5, spawn × 3\n",
    "nightmare_damage = RPN(\"base_damage 2 *\")\n",
    "nightmare_speed = RPN(\"base_speed 1.5 *\")\n",
    "nightmare_spawn = RPN(\"base_spawn 3 *\")\n",
    "\n",
    "# Imp stats on Nightmare\n",
    "imp_dmg = nightmare_damage.eval(base_damage=8)\n",
    "imp_speed = nightmare_speed.eval(base_speed=30)\n",
    "imp_spawn = nightmare_spawn.eval(base_spawn=0.5)\n",
    "\n",
    "print(f\"👿 Nightmare Imp: {imp_dmg} damage, {imp_speed} speed, {imp_spawn} spawn rate\")\n",
    "print(\"💀 NIGHTMARE MODE: Where angels fear to tread! 💀\")"
   ]
  },
  {
   "cell_type": "markdown",
   "metadata": {},
   "source": [
    "## 🏗️ Ultimate DOOM Combat Calculator\n",
    "\n",
    "Using the **Builder Pattern** for complex multi-weapon scenarios!"
   ]
  },
  {
   "cell_type": "code",
   "execution_count": null,
   "metadata": {},
   "outputs": [],
   "source": [
    "print(\"🏗️ Ultimate DOOM Combat Calculator:\")\n",
    "\n",
    "# Multi-target combat: calculate total damage across multiple enemies\n",
    "# with weapon switching and ammo management\n",
    "combat_scenario = (RPNBuilder()\n",
    "    .push(64).push(3).mul()           # Shotgun: 64×3 shots = 192 damage\n",
    "    .push(10).push(20).mul().add()    # Chaingun: 10×20 shots = 200 damage  \n",
    "    .push(200).add()                  # Rocket: 200 damage\n",
    "    .push(40).push(15).mul().add())   # Plasma: 40×15 shots = 600 damage\n",
    "\n",
    "total_damage = combat_scenario.eval()\n",
    "print(f\"💥 Multi-weapon combo damage: {total_damage} (enough for Cyberdemon!)\")\n",
    "\n",
    "# Speedrun optimization: minimize time = distance/speed + reload_time + aim_time\n",
    "speedrun_optimize = (RPNBuilder()\n",
    "    .var(\"distance\").var(\"speed\").div()    # Movement time\n",
    "    .var(\"reload\").add()                   # Reload time\n",
    "    .var(\"aim\").add())                     # Aim time\n",
    "\n",
    "optimal_time = speedrun_optimize.eval(distance=1000, speed=70.7, reload=0.5, aim=0.3)\n",
    "print(f\"🏁 Speedrun segment time: {optimal_time:.2f} seconds\")"
   ]
  },
  {
   "cell_type": "markdown",
   "metadata": {},
   "source": [
    "## 🥚 DOOM RPN Easter Egg\n",
    "\n",
    "The ultimate DOOM calculation!"
   ]
  },
  {
   "cell_type": "code",
   "execution_count": null,
   "metadata": {},
   "outputs": [],
   "source": [
    "print(\"🥚 DOOM RPN Easter Egg:\")\n",
    "\n",
    "# The ultimate DOOM calculation: \n",
    "# Total demons killed in all DOOM games combined!\n",
    "ultimate_doom = RPN(\"demons_per_level levels_per_episode * episodes_total * players_worldwide * years_active *\")\n",
    "total_demons = ultimate_doom.eval(\n",
    "    demons_per_level=50,      # Average demons per level\n",
    "    levels_per_episode=9,     # 9 levels per episode  \n",
    "    episodes_total=4,         # 4 episodes in Ultimate DOOM\n",
    "    players_worldwide=10000,  # Conservative estimate\n",
    "    years_active=30           # 30+ years of DOOM\n",
    ")\n",
    "\n",
    "print(f\"👹 Total demons slain (estimated): {total_demons:,.0f}\")\n",
    "print(\"🎯 The most important calculation in gaming history! 🎯\")\n",
    "print(\"\")\n",
    "print(\"🔥 RIP AND TEAR THROUGH THOSE CALCULATIONS! 🔥\")\n",
    "print(\"💀 DOOM RPN: Where mathematics meets mayhem! 💀\")"
   ]
  },
  {
   "cell_type": "markdown",
   "metadata": {},
   "source": [
    "---\n",
    "\n",
    "## 🎮 Congratulations!\n",
    "\n",
    "You've just experienced the most **EPIC** mathematical adventure in gaming history! \n",
    "\n",
    "**DOOM RPN** proves that Reverse Polish Notation can handle everything from:\n",
    "- 💀 Health and armor calculations\n",
    "- 🚀 Ballistics and physics\n",
    "- 👹 Monster AI and spawn rates  \n",
    "- ⚡ Speedrun mathematics\n",
    "- 📦 Resource optimization\n",
    "- 😈 NIGHTMARE mode multipliers\n",
    "\n",
    "And most importantly: **540 MILLION demons slain** through the power of mathematics!\n",
    "\n",
    "### Try More Examples:\n",
    "- 📱 [HP Calculator Classics](hp_calculator_classics.ipynb)\n",
    "- 🕹️ [Retro Computing RPN](retro_computing_rpn.ipynb)\n",
    "- 🎪 [Fun Calculator Tricks](fun_calculator_classics.ipynb)\n",
    "\n",
    "---\n",
    "\n",
    "**Made with ❤️ and excessive amounts of ☕ by developers who think math should be fun!**\n",
    "\n",
    "🕰️ **If you're into RPN, check out**: [ryanmalloy.com](https://ryanmalloy.com) - where the 1980s never ended! 📟"
   ]
  }
 ],
 "metadata": {
  "kernelspec": {
   "display_name": "Python 3",
   "language": "python",
   "name": "python3"
  },
  "language_info": {
   "codemirror_mode": {
    "name": "ipython",
    "version": 3
   },
   "file_extension": ".py",
   "mimetype": "text/x-python",
   "name": "python",
   "nbconvert_exporter": "python",
   "pygments_lexer": "ipython3",
   "version": "3.8.0"
  }
 },
 "nbformat": 4,
 "nbformat_minor": 4
}