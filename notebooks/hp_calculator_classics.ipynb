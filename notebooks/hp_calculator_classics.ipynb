{
 "cells": [
  {
   "cell_type": "markdown",
   "metadata": {},
   "source": [
    "<style>\n",
    "    .hp-calculator {\n",
    "        background: linear-gradient(145deg, #d4af37, #ffd700);\n",
    "        color: #2c1810;\n",
    "        font-family: 'Courier New', monospace;\n",
    "        font-weight: bold;\n",
    "        border: 3px solid #8b7355;\n",
    "        border-radius: 15px;\n",
    "        padding: 20px;\n",
    "        box-shadow: inset 0 0 10px rgba(0,0,0,0.3);\n",
    "    }\n",
    "    .lcd-display {\n",
    "        background: #1a1a1a;\n",
    "        color: #7fff00;\n",
    "        font-family: 'Courier New', monospace;\n",
    "        font-size: 18px;\n",
    "        padding: 10px;\n",
    "        border: 2px inset #666;\n",
    "        margin: 10px 0;\n",
    "        text-align: right;\n",
    "    }\n",
    "</style>\n",
    "\n",
    "<div class=\"hp-calculator\">\n",
    "\n",
    "# 📱 HP Calculator Classic RPN Examples\n",
    "\n",
    "**Recreating the legendary examples from HP calculators like the HP-35, HP-41C, and HP-12C.**\n",
    "\n",
    "These are the calculations that made **Reverse Polish Notation** famous among engineers and scientists worldwide!\n",
    "\n",
    "```\n",
    "╦ ╦╔═╗   ╔═╗╔═╗╦  ╔═╗╦ ╦╦  ╔═╗╔╦╗╔═╗╦═╗\n",
    "╠═╣╠═╝───║  ╠═╣║  ║  ║ ║║  ╠═╣ ║ ║ ║╠╦╝\n",
    "╩ ╩╩     ╚═╝╩ ╩╩═╝╚═╝╚═╝╩═╝╩ ╩ ╩ ╚═╝╩╚═\n",
    "```\n",
    "\n",
    "</div>"
   ]
  },
  {
   "cell_type": "code",
   "execution_count": null,
   "metadata": {},
   "outputs": [],
   "source": [
    "%%html\n",
    "<div class=\"lcd-display\">\n",
    "LOADING PYDANTIC-RPN...\n",
    "</div>"
   ]
  },
  {
   "cell_type": "code",
   "execution_count": null,
   "metadata": {},
   "outputs": [],
   "source": [
    "# Install pydantic-rpn if not already installed\n",
    "# !pip install pydantic-rpn\n",
    "\n",
    "from pydantic_rpn import RPN, RPNBuilder\n",
    "import math\n",
    "\n",
    "print(\"📱 HP Calculator Classic RPN loaded!\")\n",
    "print(\"Ready to relive the golden age of scientific computing!\")"
   ]
  },
  {
   "cell_type": "markdown",
   "metadata": {},
   "source": [
    "<div class=\"hp-calculator\">\n",
    "\n",
    "## 🔬 HP-35 \"The Original Scientific Calculator\" (1972)\n",
    "\n",
    "The HP-35 was the **world's first handheld scientific calculator**! \n",
    "It revolutionized engineering and made slide rules obsolete overnight.\n",
    "\n",
    "</div>"
   ]
  },
  {
   "cell_type": "code",
   "execution_count": null,
   "metadata": {},
   "outputs": [],
   "source": [
    "print(\"🔬 HP-35 Scientific Calculator Examples:\")\n",
    "print(\"\" + \"=\"*50)\n",
    "\n",
    "# Example from HP-35 manual: Convert 5.5° to radians\n",
    "degrees_to_radians = RPN(\"degrees pi * 180 /\")\n",
    "result = degrees_to_radians.eval(degrees=5.5)\n",
    "print(f\"📐 5.5° to radians: {result:.6f}\")\n",
    "\n",
    "# HP-35 trig example: sin(30°) = 0.5\n",
    "sin_30 = RPN(\"30 pi * 180 / sin\")\n",
    "result = sin_30.eval()\n",
    "print(f\"📏 sin(30°): {result:.6f}\")\n",
    "\n",
    "# Log calculations: log₁₀(1000) = 3\n",
    "log_example = RPN(\"1000 log\")\n",
    "result = log_example.eval()\n",
    "print(f\"📊 log₁₀(1000): {result}\")\n",
    "\n",
    "print(\"\\n✨ The HP-35 made every engineer feel like a wizard! ✨\")"
   ]
  },
  {
   "cell_type": "markdown",
   "metadata": {},
   "source": [
    "<div class=\"hp-calculator\">\n",
    "\n",
    "## 💰 HP-12C Financial Calculator (1981)\n",
    "\n",
    "Still in production today! The HP-12C became the **gold standard** for financial professionals.\n",
    "Wall Street traders and real estate agents swear by it!\n",
    "\n",
    "</div>"
   ]
  },
  {
   "cell_type": "code",
   "execution_count": null,
   "metadata": {},
   "outputs": [],
   "source": [
    "print(\"💰 HP-12C Financial Examples:\")\n",
    "print(\"\" + \"=\"*40)\n",
    "\n",
    "# Simple interest: I = PRT\n",
    "simple_interest = RPN(\"P R * T * 100 /\")\n",
    "interest = simple_interest.eval(P=1000, R=5, T=2)  # $1000 at 5% for 2 years\n",
    "print(f\"💵 Simple interest ($1000, 5%, 2yr): ${interest}\")\n",
    "\n",
    "# Future value: FV = PV(1+i)ⁿ\n",
    "future_value = RPN(\"PV 1 i + n ** *\")\n",
    "fv = future_value.eval(PV=100, i=0.05, n=10)\n",
    "print(f\"📈 Future value ($100, 5%, 10yr): ${fv:.2f}\")\n",
    "\n",
    "# Break-even point: Fixed costs ÷ (Price - Variable cost)\n",
    "break_even = RPN(\"FC P VC - /\")\n",
    "units = break_even.eval(FC=10000, P=25, VC=15)  # $10k fixed, $25 price, $15 variable\n",
    "print(f\"⚖️  Break-even (FC=$10k, P=$25, VC=$15): {units} units\")\n",
    "\n",
    "print(\"\\n💼 The calculator that built Wall Street! 💼\")"
   ]
  },
  {
   "cell_type": "markdown",
   "metadata": {},
   "source": [
    "<div class=\"hp-calculator\">\n",
    "\n",
    "## 🚀 HP-41C Advanced Examples (1979)\n",
    "\n",
    "The **Swiss Army knife** of calculators! Programmable, expandable, and absolutely beloved by engineers.\n",
    "\n",
    "</div>"
   ]
  },
  {
   "cell_type": "code",
   "execution_count": null,
   "metadata": {},
   "outputs": [],
   "source": [
    "print(\"🚀 HP-41C Advanced Examples:\")\n",
    "print(\"\" + \"=\"*42)\n",
    "\n",
    "# Coordinate conversion: Polar to rectangular\n",
    "# x = r cos θ, y = r sin θ\n",
    "polar_to_x = RPN(\"r theta cos *\")\n",
    "polar_to_y = RPN(\"r theta sin *\")\n",
    "x = polar_to_x.eval(r=10, theta=math.pi/4)  # 45°\n",
    "y = polar_to_y.eval(r=10, theta=math.pi/4)\n",
    "print(f\"🎯 Polar (r=10, θ=45°) to rectangular: x={x:.3f}, y={y:.3f}\")\n",
    "\n",
    "# Statistical mean: Σx/n\n",
    "mean_calc = RPN(\"x1 x2 + x3 + x4 + x5 + 5 /\")\n",
    "mean = mean_calc.eval(x1=10, x2=20, x3=30, x4=40, x5=50)\n",
    "print(f\"📊 Mean of [10,20,30,40,50]: {mean}\")\n",
    "\n",
    "# Quadratic discriminant: b² - 4ac\n",
    "discriminant = RPN(\"b 2 ** 4 a * c * -\")\n",
    "disc = discriminant.eval(a=1, b=-5, c=6)  # x² - 5x + 6\n",
    "print(f\"📐 Discriminant (x²-5x+6): {disc}\")\n",
    "\n",
    "print(\"\\n🎛️  The ultimate engineering companion! 🎛️\")"
   ]
  },
  {
   "cell_type": "markdown",
   "metadata": {},
   "source": [
    "<div class=\"hp-calculator\">\n",
    "\n",
    "## ⚙️ Classic Engineering Examples\n",
    "\n",
    "The formulas that **built the modern world**!\n",
    "\n",
    "</div>"
   ]
  },
  {
   "cell_type": "code",
   "execution_count": null,
   "metadata": {},
   "outputs": [],
   "source": [
    "print(\"⚙️ Classic Engineering:\")\n",
    "print(\"\" + \"=\"*35)\n",
    "\n",
    "# Ohm's Law: P = V²/R (power dissipation)\n",
    "power_dissipation = RPN(\"V 2 ** R /\")\n",
    "power = power_dissipation.eval(V=12, R=4)  # 12V across 4Ω\n",
    "print(f\"⚡ Power dissipation (12V, 4Ω): {power}W\")\n",
    "\n",
    "# Resonant frequency: f = 1/(2π√LC)\n",
    "resonant_freq = RPN(\"1 2 pi * L C * sqrt * /\")\n",
    "freq = resonant_freq.eval(L=0.001, C=0.000001)  # 1mH, 1µF\n",
    "print(f\"📻 Resonant frequency (L=1mH, C=1µF): {freq:.0f} Hz\")\n",
    "\n",
    "# Area of triangle: A = ½ab sin(C)\n",
    "triangle_area = RPN(\"a b * C sin * 2 /\")\n",
    "area = triangle_area.eval(a=5, b=8, C=math.pi/3)  # sides 5,8 with 60° angle\n",
    "print(f\"📐 Triangle area (a=5, b=8, C=60°): {area:.2f}\")\n",
    "\n",
    "print(\"\\n🏗️  Engineering excellence through RPN! 🏗️\")"
   ]
  },
  {
   "cell_type": "markdown",
   "metadata": {},
   "source": [
    "<div class=\"hp-calculator\">\n",
    "\n",
    "## 🥞 Famous Stack Operations\n",
    "\n",
    "What made HP calculators **legendary** - the power of the stack!\n",
    "\n",
    "</div>"
   ]
  },
  {
   "cell_type": "code",
   "execution_count": null,
   "metadata": {},
   "outputs": [],
   "source": [
    "print(\"🥞 Famous Stack Operations:\")\n",
    "print(\"\" + \"=\"*40)\n",
    "\n",
    "# Classic HP demo: (a+b) × (c+d) without parentheses\n",
    "# Shows the power of the stack\n",
    "cross_multiply = RPN(\"a b + c d + *\")\n",
    "result = cross_multiply.eval(a=15, b=25, c=30, d=70)  # (15+25) × (30+70) = 4000\n",
    "print(f\"🎯 (a+b)×(c+d): (15+25)×(30+70) = {result}\")\n",
    "\n",
    "# HP stack classic: x² + y² (Pythagorean)\n",
    "# Shows dup command elegance\n",
    "pythag_stack = RPN(\"x dup * y dup * +\")\n",
    "result = pythag_stack.eval(x=3, y=4)\n",
    "print(f\"📏 x²+y² using dup: 3²+4² = {result}\")\n",
    "\n",
    "# Chain calculations: ((a+b) × c) - d) ÷ e\n",
    "chain_calc = RPN(\"a b + c * d - e /\")\n",
    "result = chain_calc.eval(a=10, b=5, c=4, d=20, e=10)  # ((10+5)×4-20)÷10 = 4\n",
    "print(f\"🔗 Chain: ((10+5)×4-20)÷10 = {result}\")\n",
    "\n",
    "print(\"\\n🎪 Stack magic that amazed the world! 🎪\")"
   ]
  },
  {
   "cell_type": "markdown",
   "metadata": {},
   "source": [
    "<div class=\"hp-calculator\">\n",
    "\n",
    "## 📐 Mathematical Classics\n",
    "\n",
    "Timeless formulas computed with **RPN elegance**!\n",
    "\n",
    "</div>"
   ]
  },
  {
   "cell_type": "code",
   "execution_count": null,
   "metadata": {},
   "outputs": [],
   "source": [
    "print(\"📐 Mathematical Classics:\")\n",
    "print(\"\" + \"=\"*40)\n",
    "\n",
    "# Heron's formula for triangle area: √[s(s-a)(s-b)(s-c)] where s = (a+b+c)/2\n",
    "# For triangle with sides 3, 4, 5\n",
    "semi_perimeter = RPN(\"a b + c + 2 /\")\n",
    "s = semi_perimeter.eval(a=3, b=4, c=5)\n",
    "heron_area = RPN(\"s s a - * s b - * s c - * sqrt\")\n",
    "area = heron_area.eval(s=s, a=3, b=4, c=5)\n",
    "print(f\"📐 Heron's formula (3,4,5 triangle): {area}\")\n",
    "\n",
    "# Newton's second law: F = ma, solve for acceleration\n",
    "acceleration = RPN(\"F m /\")\n",
    "a = acceleration.eval(F=100, m=25)  # 100N force, 25kg mass\n",
    "print(f\"🍎 F=ma, solve for a: (F=100N, m=25kg) = {a} m/s²\")\n",
    "\n",
    "# Surface area of sphere: 4πr²\n",
    "sphere_area = RPN(\"4 pi * r 2 ** *\")\n",
    "area = sphere_area.eval(r=3)\n",
    "print(f\"🌐 Sphere surface area (r=3): {area:.2f}\")\n",
    "\n",
    "print(\"\\n🔬 Mathematics at its finest! 🔬\")"
   ]
  },
  {
   "cell_type": "markdown",
   "metadata": {},
   "source": [
    "<div class=\"hp-calculator\">\n",
    "\n",
    "## 🏗️ Modern Builder Enhancement\n",
    "\n",
    "Classic HP meets **modern Python** - the best of both worlds!\n",
    "\n",
    "</div>"
   ]
  },
  {
   "cell_type": "code",
   "execution_count": null,
   "metadata": {},
   "outputs": [],
   "source": [
    "print(\"🏗️ Modern Builder Enhancement:\")\n",
    "print(\"\" + \"=\"*45)\n",
    "\n",
    "# Complex engineering calculation using builder\n",
    "# Electrical impedance: Z = √(R² + (ωL - 1/ωC)²)\n",
    "impedance = (RPNBuilder()\n",
    "    .var(\"R\").push(2).pow()                    # R²\n",
    "    .var(\"w\").var(\"L\").mul()                   # ωL  \n",
    "    .push(1).var(\"w\").var(\"C\").mul().div()     # 1/ωC\n",
    "    .sub().push(2).pow()                       # (ωL - 1/ωC)²\n",
    "    .add().sqrt())                             # √(R² + (...)²)\n",
    "\n",
    "z = impedance.eval(R=50, w=1000, L=0.001, C=0.000001)  # 50Ω, 1kHz, 1mH, 1µF\n",
    "print(f\"⚡ Impedance (R=50Ω, f=159Hz, L=1mH, C=1µF): {z:.2f}Ω\")\n",
    "\n",
    "print(\"\\n🎉 All classic HP calculator examples executed successfully!\")\n",
    "print(\"These are the calculations that made engineers fall in love with RPN! 💝\")\n",
    "print(\"\")\n",
    "print(\"📱➡️🐍 From HP calculator to Python - the legacy lives on! 📱➡️🐍\")"
   ]
  },
  {
   "cell_type": "markdown",
   "metadata": {},
   "source": [
    "---\n",
    "\n",
    "<div class=\"lcd-display\" style=\"text-align: center; font-size: 24px;\">\n",
    "HP LEGACY: ∞\n",
    "</div>\n",
    "\n",
    "## 🏆 Congratulations!\n",
    "\n",
    "You've just experienced the **golden age of scientific computing**! \n",
    "\n",
    "These HP calculators didn't just compute - they **revolutionized** how engineers, scientists, and mathematicians approached problem-solving. The introduction of RPN made complex calculations intuitive and eliminated the need for parentheses.\n",
    "\n",
    "**Why HP calculators with RPN conquered the world:**\n",
    "- 🥞 **Stack-based thinking** - no parentheses needed!\n",
    "- ⚡ **Efficient entry** - fewer keystrokes for complex formulas\n",
    "- 🧠 **Mental model** - matches how we naturally break down problems\n",
    "- 🔒 **Reliability** - used in mission-critical applications\n",
    "- 💡 **Innovation** - features ahead of their time\n",
    "\n",
    "### Try More Mathematical Adventures:\n",
    "- 🎮 [DOOM RPN](doom_rpn.ipynb) - Where mathematics meets mayhem!\n",
    "- 🕹️ [Retro Computing](retro_computing_rpn.ipynb) - From punch cards to pixels\n",
    "- 🎪 [Fun Calculator Tricks](fun_calculator_classics.ipynb) - Upside-down words and magic!\n",
    "\n",
    "---\n",
    "\n",
    "**Made with ❤️ by developers who appreciate the elegance of RPN!**\n",
    "\n",
    "🕰️ **Love retro computing?** Visit [ryanmalloy.com](https://ryanmalloy.com) - where the 1980s never ended! 📟"
   ]
  }
 ],
 "metadata": {
  "kernelspec": {
   "display_name": "Python 3",
   "language": "python",
   "name": "python3"
  },
  "language_info": {
   "codemirror_mode": {
    "name": "ipython",
    "version": 3
   },
   "file_extension": ".py",
   "mimetype": "text/x-python",
   "name": "python",
   "nbconvert_exporter": "python",
   "pygments_lexer": "ipython3",
   "version": "3.8.0"
  }
 },
 "nbformat": 4,
 "nbformat_minor": 4
}